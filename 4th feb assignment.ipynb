{
 "cells": [
  {
   "cell_type": "code",
   "execution_count": null,
   "id": "a1764d1d-9b03-4a1c-bad9-87eccff325b4",
   "metadata": {},
   "outputs": [],
   "source": [
    "#question 1 "
   ]
  },
  {
   "cell_type": "code",
   "execution_count": 16,
   "id": "71c5c473-e740-4892-b485-59a0f532d6d3",
   "metadata": {},
   "outputs": [],
   "source": [
    "l = [('Sachin Tendulkar', 34357), ('Ricky Ponting', 27483), ('Jack Kallis', 25534), ('Virat Kohli', 24936)]"
   ]
  },
  {
   "cell_type": "code",
   "execution_count": 17,
   "id": "4ccaa9e6-5e3a-4d1f-8bb2-69d3861b2ca6",
   "metadata": {},
   "outputs": [
    {
     "data": {
      "text/plain": [
       "[('Sachin Tendulkar', 34357),\n",
       " ('Ricky Ponting', 27483),\n",
       " ('Jack Kallis', 25534),\n",
       " ('Virat Kohli', 24936)]"
      ]
     },
     "execution_count": 17,
     "metadata": {},
     "output_type": "execute_result"
    }
   ],
   "source": [
    "l"
   ]
  },
  {
   "cell_type": "code",
   "execution_count": 24,
   "id": "09a67923-e4bb-4a80-a7d5-6b6810e9afbf",
   "metadata": {},
   "outputs": [],
   "source": [
    "l.sort(key = lambda x : x[0])"
   ]
  },
  {
   "cell_type": "code",
   "execution_count": 25,
   "id": "42e82a74-1592-4382-a666-6bf9fd037073",
   "metadata": {},
   "outputs": [
    {
     "name": "stdout",
     "output_type": "stream",
     "text": [
      "[('Jack Kallis', 25534), ('Ricky Ponting', 27483), ('Sachin Tendulkar', 34357), ('Virat Kohli', 24936)]\n"
     ]
    }
   ],
   "source": [
    "print(l)"
   ]
  },
  {
   "cell_type": "code",
   "execution_count": 26,
   "id": "b0e1088f-01ed-4f68-8e7d-43b8b8d7fc9d",
   "metadata": {},
   "outputs": [],
   "source": [
    "#Question 2 "
   ]
  },
  {
   "cell_type": "code",
   "execution_count": 27,
   "id": "dd960f28-4e1b-446e-97be-6eb5e8956e33",
   "metadata": {},
   "outputs": [],
   "source": [
    "l = [1, 2, 3, 4, 5, 6, 7, 8, 9, 10]"
   ]
  },
  {
   "cell_type": "code",
   "execution_count": 28,
   "id": "80ed9793-277a-4df1-bffe-445c5488f968",
   "metadata": {},
   "outputs": [
    {
     "data": {
      "text/plain": [
       "[1, 2, 3, 4, 5, 6, 7, 8, 9, 10]"
      ]
     },
     "execution_count": 28,
     "metadata": {},
     "output_type": "execute_result"
    }
   ],
   "source": [
    "l"
   ]
  },
  {
   "cell_type": "code",
   "execution_count": 29,
   "id": "575e5276-2c35-4ad5-8f97-c14048db10b3",
   "metadata": {},
   "outputs": [
    {
     "data": {
      "text/plain": [
       "[1, 4, 9, 16, 25, 36, 49, 64, 81, 100]"
      ]
     },
     "execution_count": 29,
     "metadata": {},
     "output_type": "execute_result"
    }
   ],
   "source": [
    "list(map(lambda x : x**2,l))"
   ]
  },
  {
   "cell_type": "code",
   "execution_count": 30,
   "id": "f9fad011-d4ef-4e4d-b0bd-a43e266ead33",
   "metadata": {},
   "outputs": [],
   "source": [
    "#Question  3"
   ]
  },
  {
   "cell_type": "code",
   "execution_count": 31,
   "id": "3cd774e9-26d0-4808-ad19-c40d61afcf7f",
   "metadata": {},
   "outputs": [],
   "source": [
    "l1 = [1, 2, 3, 4, 5, 6, 7, 8, 9, 10]"
   ]
  },
  {
   "cell_type": "code",
   "execution_count": 32,
   "id": "fbae6cd8-65a5-4268-928a-07cbeb139af8",
   "metadata": {},
   "outputs": [
    {
     "data": {
      "text/plain": [
       "[1, 2, 3, 4, 5, 6, 7, 8, 9, 10]"
      ]
     },
     "execution_count": 32,
     "metadata": {},
     "output_type": "execute_result"
    }
   ],
   "source": [
    "l1"
   ]
  },
  {
   "cell_type": "code",
   "execution_count": 34,
   "id": "844b1b07-d88c-422f-a395-a2d6f7406e8b",
   "metadata": {},
   "outputs": [
    {
     "data": {
      "text/plain": [
       "('1', '2', '3', '4', '5', '6', '7', '8', '9', '10')"
      ]
     },
     "execution_count": 34,
     "metadata": {},
     "output_type": "execute_result"
    }
   ],
   "source": [
    "tuple(map(lambda x : str(x),l1))"
   ]
  },
  {
   "cell_type": "code",
   "execution_count": 35,
   "id": "9d2d3ee1-b22d-4380-b7a5-30355e3fe29f",
   "metadata": {},
   "outputs": [],
   "source": [
    "# Question  4"
   ]
  },
  {
   "cell_type": "code",
   "execution_count": 48,
   "id": "7c2d7f75-8cca-4aa6-b280-1094374f8387",
   "metadata": {},
   "outputs": [
    {
     "name": "stdout",
     "output_type": "stream",
     "text": [
      "[1, 2, 3, 4, 5, 6, 7, 8, 9, 10, 11, 12, 13, 14, 15, 16, 17, 18, 19, 20, 21, 22, 23, 24, 25]\n"
     ]
    }
   ],
   "source": [
    "from functools import reduce\n",
    "\n",
    "l1 = list(range(1,26))\n",
    "print(l1)"
   ]
  },
  {
   "cell_type": "code",
   "execution_count": 50,
   "id": "15259710-d801-4e00-a0e5-6a5375f0667d",
   "metadata": {},
   "outputs": [
    {
     "data": {
      "text/plain": [
       "15511210043330985984000000"
      ]
     },
     "execution_count": 50,
     "metadata": {},
     "output_type": "execute_result"
    }
   ],
   "source": [
    "reduce(lambda x ,y : x*y , l1 )"
   ]
  },
  {
   "cell_type": "code",
   "execution_count": null,
   "id": "7d326c4f-1166-463b-b1ee-c800af75a29f",
   "metadata": {},
   "outputs": [],
   "source": [
    "# Question 5"
   ]
  },
  {
   "cell_type": "code",
   "execution_count": null,
   "id": "7fa81cba-cbd9-46ea-b403-242c87333a44",
   "metadata": {},
   "outputs": [],
   "source": [
    "l = [2, 3, 6, 9, 27, 60, 90, 120, 55, 46]"
   ]
  },
  {
   "cell_type": "code",
   "execution_count": 51,
   "id": "88c117da-9839-4f4d-ac74-0c4f58c37d08",
   "metadata": {},
   "outputs": [
    {
     "data": {
      "text/plain": [
       "[1, 2, 3, 4, 5, 6, 7, 8, 9, 10]"
      ]
     },
     "execution_count": 51,
     "metadata": {},
     "output_type": "execute_result"
    }
   ],
   "source": [
    "l"
   ]
  },
  {
   "cell_type": "code",
   "execution_count": 53,
   "id": "29713694-9db0-462b-99c2-5b8fcd4f4ae2",
   "metadata": {},
   "outputs": [
    {
     "data": {
      "text/plain": [
       "[6]"
      ]
     },
     "execution_count": 53,
     "metadata": {},
     "output_type": "execute_result"
    }
   ],
   "source": [
    "list(filter(lambda x : x % 2 == 0 and x % 3 == 0 , l ))"
   ]
  },
  {
   "cell_type": "code",
   "execution_count": 54,
   "id": "436a8d5f-291d-4913-a032-e72d12e3e535",
   "metadata": {},
   "outputs": [],
   "source": [
    "# Question 6"
   ]
  },
  {
   "cell_type": "code",
   "execution_count": 55,
   "id": "06aeb572-346d-44e8-9b09-7e0acd5e0e7a",
   "metadata": {},
   "outputs": [],
   "source": [
    "l = ['python', 'php', 'aba', 'radar', 'level']"
   ]
  },
  {
   "cell_type": "code",
   "execution_count": 56,
   "id": "0e1572dc-8e55-4c03-843f-024ee4bbd018",
   "metadata": {},
   "outputs": [
    {
     "data": {
      "text/plain": [
       "['python', 'php', 'aba', 'radar', 'level']"
      ]
     },
     "execution_count": 56,
     "metadata": {},
     "output_type": "execute_result"
    }
   ],
   "source": [
    "l"
   ]
  },
  {
   "cell_type": "code",
   "execution_count": 57,
   "id": "61427f19-676c-4c22-bb65-ef0a7eb0f46d",
   "metadata": {},
   "outputs": [
    {
     "data": {
      "text/plain": [
       "['php', 'aba', 'radar', 'level']"
      ]
     },
     "execution_count": 57,
     "metadata": {},
     "output_type": "execute_result"
    }
   ],
   "source": [
    "list(filter(lambda x : x[::1]==x[::-1],l))"
   ]
  },
  {
   "cell_type": "code",
   "execution_count": null,
   "id": "034dfa48-4843-4cce-82d7-d3b4f4cd3f5f",
   "metadata": {},
   "outputs": [],
   "source": []
  }
 ],
 "metadata": {
  "kernelspec": {
   "display_name": "Python 3 (ipykernel)",
   "language": "python",
   "name": "python3"
  },
  "language_info": {
   "codemirror_mode": {
    "name": "ipython",
    "version": 3
   },
   "file_extension": ".py",
   "mimetype": "text/x-python",
   "name": "python",
   "nbconvert_exporter": "python",
   "pygments_lexer": "ipython3",
   "version": "3.10.8"
  }
 },
 "nbformat": 4,
 "nbformat_minor": 5
}
